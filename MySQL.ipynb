{
 "cells": [
  {
   "cell_type": "markdown",
   "id": "2f85ac3f-5ce3-4a00-a8db-175826e24ba2",
   "metadata": {},
   "source": [
    "# MySQL crash course"
   ]
  },
  {
   "cell_type": "markdown",
   "id": "c39f004a-2ccf-4f5e-ba02-63978293c9ad",
   "metadata": {},
   "source": [
    "This markdown file is for the people who took break from MySQL and want to revise all the operations and functions."
   ]
  },
  {
   "cell_type": "markdown",
   "id": "eb8c5f8b-be37-4d70-8d5e-455bd3cb20e7",
   "metadata": {},
   "source": [
    "## Lets start from basics"
   ]
  },
  {
   "cell_type": "markdown",
   "id": "ba699a8d-148f-4fd3-be6d-93f9e8693d67",
   "metadata": {},
   "source": [
    "**SQL** is used to insert, search, update, and delete database records.  \n",
    "The **SELECT** statement is used to select data from a database.  \n",
    "The **WHERE** clause is used to filter records and can be combined with **AND**, **OR**, and **NOT** operators.  \n",
    "The **ORDER** BY keyword is used to sort the result-set in ascending or descending order.  \n",
    "The **INSERT** **INTO** statement is used to insert new records in a table.  \n",
    "IS **NULL** and **IS NOT NULL** operators are used to check for the null values or non null values respwctively.  \n",
    "The **UPDATE** statement is used to modify the existing records in a table.  \n",
    "The **DELETE** statement is used to delete existing records in a table.  \n",
    "The **LIMIT** clause is used to specify the number of records to return.  \n",
    "\r",
    "The **MIN()** and **MAX()** function returns the smallest and largest value of the selected column respectively.    \r",
    "The **COUNT(**) function returns the number of rows that matches a specified criterion.  \r",
    "The **AVG()** function returns the average value of a numeric column.  \r",
    "The **SUM()** function returns the total sum of a numeric column.  \r",
    "The **LIKE** operator is used in a WHERE clause to search for a specified pattern in a column.  \n",
    "Wildcards  \n",
    "The **IN** operator allows you to specify multiple values in a WHERE clause.  \r",
    "The **BETWEEN** operator selects values within a given range. The values can be numbers, text, or dates.  \r",
    "Aliases are used to give a table, or a column in a table, a temporary nameed to make column names more readabl An alias is created with the **AS** keyword. \r\n",
    "\r\n",
    "An alias only exists for the duration of that qu  eA **JOIN** clause is used to combine rows from two or more tables, based on a related column between them. The **INNER JOIN** keyword selects records that have matching values in both tables. The **LEFT JOIN** keyword returns all records from the left table (table1), and the matching records (if any) from the right table (table2). The **RIGHT JOIN** keyword returns all records from the right table (table2), and the matching records (if any) from the left table (table1). The **CROSS JOIN** keyword returns all records from both tables (table1 and table2). A self join is a regular join, but the table is joined with itself.  \r",
    "The **UNION** operator is used to combine the result-set of two or more SELECT statements.  \r",
    "The **GROUP BY** statement groups rows that have the same values into summary rows.  \n",
    "The **HAVING** clause was added to SQL because the WHERE keyword cannot be used with aggregate functions.  \n",
    "The **EXISTS** operator is used to test for the existence of any record in a subquery.  \n",
    "The **ANY** and **ALL** operators allow you to perform a comparison between a single column value and a range of other values. Both returs boolean value.  \n",
    "The **INSERT INTO SELECT** statement copies data from one table and inserts it into another table.  \n",
    "**CASE** statement: Conditions checked sequentially, first match triggers value return (like if-else). Without ELSE and no match, result is NULL.  \n",
    "The MySQL **IFNULL()** function lets you return an alternative value if an expression is NULL.  \r",
    "The **COALESCE()** function returns the first non-null value in a list.\r\n",
    "\n",
    "\r\n",
    "\n",
    "\r\n",
    "\n",
    "\r\n",
    "\n"
   ]
  },
  {
   "cell_type": "markdown",
   "id": "c185c92f-6fb7-42ac-be23-770059f20e1e",
   "metadata": {},
   "source": [
    "## Apart from these there are other useful function "
   ]
  },
  {
   "cell_type": "markdown",
   "id": "283bb005-ff03-48f0-b023-cc77f8f253c4",
   "metadata": {},
   "source": [
    "### String functions"
   ]
  },
  {
   "cell_type": "markdown",
   "id": "a4520383-26a0-44b4-9142-3d0c21dca2aa",
   "metadata": {},
   "source": [
    "**ASCII**\tReturns the ASCII value for the specific character  \n",
    "**CHAR_LENGTH**\tReturns the length of a string (in characters)  \n",
    "**CHARACTER_LENGTH**\tReturns the length of a string (in characters)  \n",
    "**CONCAT**\tAdds two or more expressions together  \n",
    "**CONCAT_WS**\tAdds two or more expressions together with a separator  \n",
    "**FIELD**\tReturns the index position of a value in a list of values  \n",
    "**FIND_IN_SET**\tReturns the position of a string within a list of strings  \n",
    "**FORMAT**\tFormats a number to a format like \"#,###,###.##\", rounded to a specified number of decimal places  \n",
    "**INSERT**\tInserts a string within a string at the specified position and for a certain number of characters  \n",
    "**INSTR**\tReturns the position of the first occurrence of a string in another string  \n",
    "**LCASE**\tConverts a string to lower-case  \n",
    "**LEFT**\tExtracts a number of characters from a string (starting from left)  \n",
    "**LENGTH**\tReturns the length of a string (in bytes)  \n",
    "**LOCATE**\tReturns the position of the first occurrence of a substring in a string  \n",
    "**LOWER**\tConverts a string to lower-case  \n",
    "**LPAD**\tLeft-pads a string with another string, to a certain length  \n",
    "**LTRIM**\tRemoves leading spaces from a string  \n",
    "**MID**\tExtracts a substring from a string (starting at any position)  \n",
    "**POSITION**\tReturns the position of the first occurrence of a substring in a string  \n",
    "**REPEAT**\tRepeats a string as many times as specified  \n",
    "**REPLACE**\tReplaces all occurrences of a substring within a string, with a new substring  \n",
    "**REVERSE**\tReverses a string and returns the result  \n",
    "**RIGHT**\tExtracts a number of characters from a string (starting from right)  \n",
    "**RPAD**\tRight-pads a string with another string, to a certain length  \n",
    "**RTRIM**\tRemoves trailing spaces from a string  \n",
    "**SPACE**\tReturns a string of the specified number of space characters  \n",
    "**STRCMP**\tCompares two strings  \n",
    "**SUBSTR**\tExtracts a substring from a string (starting at any position)  \n",
    "**SUBSTRING**\tExtracts a substring from a string (starting at any position)  \n",
    "**SUBSTRING_INDEX**\tReturns a substring of a string before a specified number of delimiter occurs  \n",
    "**TRIM**\tRemoves leading and trailing spaces from a string  \n",
    "**UCASE**\tConverts a string to upper-case  \n",
    "**UPPER**\tConverts a string to upper-case  "
   ]
  },
  {
   "cell_type": "markdown",
   "id": "d87c920f-843c-4376-995b-5a72d60d9b91",
   "metadata": {},
   "source": [
    "### Numerical function"
   ]
  },
  {
   "cell_type": "markdown",
   "id": "620b2031-6662-4ae4-ae13-41f97794aff1",
   "metadata": {},
   "source": [
    " **ABS**\tReturns the absolute value of a number  \n",
    " **ACOS**\tReturns the arc cosine of a number  \n",
    " **ASIN**\tReturns the arc sine of a number  \n",
    " **ATAN**\tReturns the arc tangent of one or two numbers  \n",
    " **ATAN2**\tReturns the arc tangent of two numbers  \n",
    " **AVG**\tReturns the average value of an expression  \n",
    " **CEIL**\tReturns the smallest integer value that is >= to a number  \n",
    " **CEILING**\tReturns the smallest integer value that is >= to a number  \n",
    " **COS**\tReturns the cosine of a number  \n",
    " **COT**\tReturns the cotangent of a number  \n",
    " **COUNT**\tReturns the number of records returned by a select query  \n",
    " **DEGREES**\tConverts a value in radians to degrees  \n",
    " **DIV**\tUsed for integer division  \n",
    " **EXP**\tReturns e raised to the power of a specified number  \n",
    " **FLOOR**\tReturns the largest integer value that is <= to a number  \n",
    " **GREATEST**\tReturns the greatest value of the list of arguments  \n",
    " **LEAST**\tReturns the smallest value of the list of arguments  \n",
    " **LN**\tReturns the natural logarithm of a number  \n",
    " **LOG**\tReturns the natural logarithm of a number, or the logarithm of a number to a specified base  \n",
    " **LOG10**\tReturns the natural logarithm of a number to base 10  \n",
    " **LOG2**\tReturns the natural logarithm of a number to base 2  \n",
    " **MAX**\tReturns the maximum value in a set of values  \n",
    " **MIN**\tReturns the minimum value in a set of values  \n",
    " **MOD**\tReturns the remainder of a number divided by another number  \n",
    " **PI**\tReturns the value of PI  \n",
    " **POW**\tReturns the value of a number raised to the power of another number  \n",
    " **POWER**\tReturns the value of a number raised to the power of another number  \n",
    " **RADIANS**\tConverts a degree value into radians  \n",
    " **RAND**\tReturns a random number  \n",
    " **ROUND**\tRounds a number to a specified number of decimal places  \n",
    " **SIGN**\tReturns the sign of a number  \n",
    " **SIN**\tReturns the sine of a number  \n",
    " **SQRT**\tReturns the square root of a number  \n",
    " **SUM**\tCalculates the sum of a set of values  \n",
    " **TAN**\tReturns the tangent of a number  \n",
    " **TRUNCATE**\tTruncates a number to the specified number of decimal placesspecified number of decimal places"
   ]
  },
  {
   "cell_type": "markdown",
   "id": "31340793-21cc-49d0-b5c4-24ee98122cbe",
   "metadata": {},
   "source": [
    "### Date functions"
   ]
  },
  {
   "cell_type": "markdown",
   "id": "82c0c96d-28ee-41db-ba56-11325a967288",
   "metadata": {},
   "source": [
    " **ADDDATE**\tAdds a time/date interval to a date and then returns the date  \n",
    " **ADDTIME**\tAdds a time interval to a time/datetime and then returns the time/datetime  \n",
    " **CURDATE**\tReturns the current date  \n",
    " **CURRENT_DATE**\tReturns the current date  \n",
    " **CURRENT_TIME**\tReturns the current time  \n",
    " **CURRENT_TIMESTAMP**\tReturns the current date and time  \n",
    " **CURTIME**\tReturns the current time  \n",
    " **DATE**\tExtracts the date part from a datetime expression  \n",
    " **DATEDIFF**\tReturns the number of days between two date values  \n",
    " **DATE_ADD**\tAdds a time/date interval to a date and then returns the date  \n",
    " **DATE_FORMAT**\tFormats a date  \n",
    " **DATE_SUB**\tSubtracts a time/date interval from a date and then returns the date  \n",
    " **DAY**\tReturns the day of the month for a given date  \n",
    " **DAYNAME**\tReturns the weekday name for a given date  \n",
    " **DAYOFMONTH**\tReturns the day of the month for a given date  \n",
    " **DAYOFWEEK**\tReturns the weekday index for a given date  \n",
    " **DAYOFYEAR**\tReturns the day of the year for a given date  \n",
    " **EXTRACT**\tExtracts a part from a given date  \n",
    " **FROM_DAYS**\tReturns a date from a numeric datevalue  \n",
    " **HOUR**\tReturns the hour part for a given date  \n",
    " **LAST_DAY**\tExtracts the last day of the month for a given date  \n",
    " **LOCALTIME**\tReturns the current date and time  \n",
    " **LOCALTIMESTAMP**\tReturns the current date and time  \n",
    " **MAKEDATE**\tCreates and returns a date based on a year and a number of days value  \n",
    " **MAKETIME**\tCreates and returns a time based on an hour, minute, and second value  \n",
    " **MICROSECOND**\tReturns the microsecond part of a time/datetime  \n",
    " **MINUTE**\tReturns the minute part of a time/datetime  \n",
    " **MONTH**\tReturns the month part for a given date  \n",
    " **MONTHNAME**\tReturns the name of the month for a given date  \n",
    " **NOW**\tReturns the current date and time  \n",
    " **PERIOD_ADD**\tAdds a specified number of months to a period  \n",
    " **QUARTER**\tReturns the quarter of the year for a given date value  \n",
    " **SECOND**\tReturns the seconds part of a time/datetime  \n",
    " **SEC_TO_TIME**\tReturns a time value based on the specified seconds  \n",
    " **STR_TO_DATE**\tReturns a date based on a string and a format  \n",
    " **SUBDATE**\tSubtracts a time/date interval from a date and then returns the date  \n",
    " **SUBTIME**\tSubtracts a time interval from a datetime and then returns the time/datetime  \n",
    " **SYSDATE**\tReturns the current date and time  \n",
    " **TIME**\tExtracts the time part from a given time/datetime  \n",
    " **TIME_FORMAT**\tFormats a time by a specified format  \n",
    " **TIME_TO_SEC**\tConverts a time value into seconds  \n",
    " **TIMEDIF**F\tReturns the difference between two time/datetime expressions  \n",
    " **TIMESTAMP**\tReturns a datetime value based on a date or datetime value  \n",
    " **TO_DAYS**\tReturns the number of days between a date and date \"0000-00-00\"  \n",
    " **WEEK**\tReturns the week number for a given date  \n",
    " **WEEKDAY**\tReturns the weekday number for a given date  \n",
    " **WEEKOFYEAR**\tReturns the week number for a given date  \n",
    " **YEAR**\tReturns the year part for a given date  \n",
    " **YEARWEEK**\tReturns the year and week number for a given date"
   ]
  },
  {
   "cell_type": "markdown",
   "id": "d597982d-d804-4ef1-99de-15f17dd68dcd",
   "metadata": {},
   "source": [
    "### Advance functions"
   ]
  },
  {
   "cell_type": "markdown",
   "id": "e81d9d64-38b1-414d-82e8-4460a1421c3d",
   "metadata": {
    "jp-MarkdownHeadingCollapsed": true
   },
   "source": [
    "**BIN**\tReturns a binary representation of a number  \n",
    " **BINARY**\tConverts a value to a binary string  \n",
    " **CASE**\tGoes through conditions and return a value when the first condition is met  \n",
    " **CAST**\tConverts a value (of any type) into a specified datatype  \n",
    " **COALESC**E\tReturns the first non-null value in a list  \n",
    " **CONNECTION_ID**\tReturns the unique connection ID for the current connection  \n",
    " **CONV**\tConverts a number from one numeric base system to another  \n",
    " **CONVERT**\tConverts a value into the specified datatype or character set  \n",
    " **CURRENT_USER**\tReturns the user name and host name for the MySQL account that the server used to authenticate the current client  \n",
    " **DATABASE**\tReturns the name of the current database  \n",
    " **IF**\tReturns a value if a condition is TRUE, or another value if a condition is FALSE  \n",
    " **IFNULL**\tReturn a specified value if the expression is NULL, otherwise return the expression  \n",
    " **ISNULL**\tReturns 1 or 0 depending on whether an expression is NULL  \n",
    " **LAST_INSERT_ID**\tReturns the AUTO_INCREMENT id of the last row that has been inserted or updated in a table  \n",
    " **NULLIF**\tCompares two expressions and returns NULL if they are equal. Otherwise, the first expression is returned  \n",
    " **SESSION_USER**\tReturns the current MySQL user name and host name  \n",
    " **SYSTEM_USER**\tReturns the current MySQL user name and host name  \n",
    " **USER**\tReturns the current MySQL user name and host name  \n",
    " **VERSION**\tReturns the current version of the MySQL database"
   ]
  },
  {
   "cell_type": "code",
   "execution_count": null,
   "id": "f6f8c2c6-1dc1-40d0-a399-14d2f6d43944",
   "metadata": {},
   "outputs": [],
   "source": []
  }
 ],
 "metadata": {
  "kernelspec": {
   "display_name": "Python 3 (ipykernel)",
   "language": "python",
   "name": "python3"
  },
  "language_info": {
   "codemirror_mode": {
    "name": "ipython",
    "version": 3
   },
   "file_extension": ".py",
   "mimetype": "text/x-python",
   "name": "python",
   "nbconvert_exporter": "python",
   "pygments_lexer": "ipython3",
   "version": "3.11.4"
  }
 },
 "nbformat": 4,
 "nbformat_minor": 5
}
